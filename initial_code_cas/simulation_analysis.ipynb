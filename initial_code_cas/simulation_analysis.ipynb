{
 "cells": [
  {
   "cell_type": "markdown",
   "metadata": {},
   "source": [
    "# IMT TAF Fiabilité : Test de charge\n",
    "\n",
    "- **durée** 30s"
   ]
  },
  {
   "cell_type": "code",
   "execution_count": 5,
   "metadata": {},
   "outputs": [],
   "source": [
    "%matplotlib inline\n",
    "%config InlineBackend.rc = {'font.size': 10, 'figure.figsize': (16.0, 5.0),'figure.dpi': 75}\n",
    "import pandas as pd\n",
    "from matplotlib import pyplot as plt #%matplotlib notebook"
   ]
  },
  {
   "cell_type": "code",
   "execution_count": 21,
   "metadata": {},
   "outputs": [
    {
     "data": {
      "text/html": [
       "<div>\n",
       "<style scoped>\n",
       "    .dataframe tbody tr th:only-of-type {\n",
       "        vertical-align: middle;\n",
       "    }\n",
       "\n",
       "    .dataframe tbody tr th {\n",
       "        vertical-align: top;\n",
       "    }\n",
       "\n",
       "    .dataframe thead th {\n",
       "        text-align: right;\n",
       "    }\n",
       "</style>\n",
       "<table border=\"1\" class=\"dataframe\">\n",
       "  <thead>\n",
       "    <tr style=\"text-align: right;\">\n",
       "      <th></th>\n",
       "      <th>id</th>\n",
       "      <th>path</th>\n",
       "      <th>latency</th>\n",
       "      <th>res</th>\n",
       "      <th>res_desc</th>\n",
       "      <th>ts</th>\n",
       "      <th>grouppath</th>\n",
       "    </tr>\n",
       "    <tr>\n",
       "      <th>ts</th>\n",
       "      <th></th>\n",
       "      <th></th>\n",
       "      <th></th>\n",
       "      <th></th>\n",
       "      <th></th>\n",
       "      <th></th>\n",
       "      <th></th>\n",
       "    </tr>\n",
       "  </thead>\n",
       "  <tbody>\n",
       "    <tr>\n",
       "      <th>2020-07-08 10:11:47.904000+02:00</th>\n",
       "      <td>0</td>\n",
       "      <td>/aggregate-stats/112</td>\n",
       "      <td>94</td>\n",
       "      <td>ok</td>\n",
       "      <td>200</td>\n",
       "      <td>2020-07-08 10:11:47.904000+02:00</td>\n",
       "      <td>/aggregate-stats</td>\n",
       "    </tr>\n",
       "    <tr>\n",
       "      <th>2020-07-08 10:11:48.920000+02:00</th>\n",
       "      <td>1</td>\n",
       "      <td>/aggregate-stats/349</td>\n",
       "      <td>1</td>\n",
       "      <td>ok</td>\n",
       "      <td>200</td>\n",
       "      <td>2020-07-08 10:11:48.920000+02:00</td>\n",
       "      <td>/aggregate-stats</td>\n",
       "    </tr>\n",
       "    <tr>\n",
       "      <th>2020-07-08 10:11:49.978000+02:00</th>\n",
       "      <td>2</td>\n",
       "      <td>/aggregate-stats/333</td>\n",
       "      <td>1</td>\n",
       "      <td>ok</td>\n",
       "      <td>200</td>\n",
       "      <td>2020-07-08 10:11:49.978000+02:00</td>\n",
       "      <td>/aggregate-stats</td>\n",
       "    </tr>\n",
       "    <tr>\n",
       "      <th>2020-07-08 10:11:51.038000+02:00</th>\n",
       "      <td>3</td>\n",
       "      <td>/aggregate-stats/65</td>\n",
       "      <td>1</td>\n",
       "      <td>ok</td>\n",
       "      <td>200</td>\n",
       "      <td>2020-07-08 10:11:51.038000+02:00</td>\n",
       "      <td>/aggregate-stats</td>\n",
       "    </tr>\n",
       "    <tr>\n",
       "      <th>2020-07-08 10:11:58.314000+02:00</th>\n",
       "      <td>10</td>\n",
       "      <td>/aggregate-stats/526</td>\n",
       "      <td>2</td>\n",
       "      <td>ok</td>\n",
       "      <td>200</td>\n",
       "      <td>2020-07-08 10:11:58.314000+02:00</td>\n",
       "      <td>/aggregate-stats</td>\n",
       "    </tr>\n",
       "  </tbody>\n",
       "</table>\n",
       "</div>"
      ],
      "text/plain": [
       "                                  id                  path  latency res  \\\n",
       "ts                                                                        \n",
       "2020-07-08 10:11:47.904000+02:00   0  /aggregate-stats/112       94  ok   \n",
       "2020-07-08 10:11:48.920000+02:00   1  /aggregate-stats/349        1  ok   \n",
       "2020-07-08 10:11:49.978000+02:00   2  /aggregate-stats/333        1  ok   \n",
       "2020-07-08 10:11:51.038000+02:00   3   /aggregate-stats/65        1  ok   \n",
       "2020-07-08 10:11:58.314000+02:00  10  /aggregate-stats/526        2  ok   \n",
       "\n",
       "                                 res_desc                               ts  \\\n",
       "ts                                                                           \n",
       "2020-07-08 10:11:47.904000+02:00      200 2020-07-08 10:11:47.904000+02:00   \n",
       "2020-07-08 10:11:48.920000+02:00      200 2020-07-08 10:11:48.920000+02:00   \n",
       "2020-07-08 10:11:49.978000+02:00      200 2020-07-08 10:11:49.978000+02:00   \n",
       "2020-07-08 10:11:51.038000+02:00      200 2020-07-08 10:11:51.038000+02:00   \n",
       "2020-07-08 10:11:58.314000+02:00      200 2020-07-08 10:11:58.314000+02:00   \n",
       "\n",
       "                                         grouppath  \n",
       "ts                                                  \n",
       "2020-07-08 10:11:47.904000+02:00  /aggregate-stats  \n",
       "2020-07-08 10:11:48.920000+02:00  /aggregate-stats  \n",
       "2020-07-08 10:11:49.978000+02:00  /aggregate-stats  \n",
       "2020-07-08 10:11:51.038000+02:00  /aggregate-stats  \n",
       "2020-07-08 10:11:58.314000+02:00  /aggregate-stats  "
      ]
     },
     "execution_count": 21,
     "metadata": {},
     "output_type": "execute_result"
    }
   ],
   "source": [
    "d = pd.read_csv('data/stats.csv', parse_dates=['ts'], index_col='ts', date_parser=lambda x: pd.to_datetime(x, unit='ms').tz_localize('UTC').tz_convert('Europe/Paris'),\n",
    "                                names=['id','ts','path','latency','res','res_desc'])\n",
    "d['ts'] = d.index\n",
    "d[\"grouppath\"] = d.apply(lambda x: \"/\".join(x['path'].split(\"/\")[:2]), axis=1)\n",
    "d.head()"
   ]
  },
  {
   "cell_type": "markdown",
   "metadata": {},
   "source": [
    "## Indicateurs - résumé"
   ]
  },
  {
   "cell_type": "code",
   "execution_count": 22,
   "metadata": {},
   "outputs": [
    {
     "data": {
      "text/html": [
       "<div>\n",
       "<style scoped>\n",
       "    .dataframe tbody tr th:only-of-type {\n",
       "        vertical-align: middle;\n",
       "    }\n",
       "\n",
       "    .dataframe tbody tr th {\n",
       "        vertical-align: top;\n",
       "    }\n",
       "\n",
       "    .dataframe thead th {\n",
       "        text-align: right;\n",
       "    }\n",
       "</style>\n",
       "<table border=\"1\" class=\"dataframe\">\n",
       "  <thead>\n",
       "    <tr style=\"text-align: right;\">\n",
       "      <th></th>\n",
       "      <th>id</th>\n",
       "      <th>latency</th>\n",
       "    </tr>\n",
       "  </thead>\n",
       "  <tbody>\n",
       "    <tr>\n",
       "      <th>count</th>\n",
       "      <td>3.200000e+01</td>\n",
       "      <td>32.00000</td>\n",
       "    </tr>\n",
       "    <tr>\n",
       "      <th>mean</th>\n",
       "      <td>5.625001e+07</td>\n",
       "      <td>12652.18750</td>\n",
       "    </tr>\n",
       "    <tr>\n",
       "      <th>std</th>\n",
       "      <td>2.213412e+08</td>\n",
       "      <td>28543.22112</td>\n",
       "    </tr>\n",
       "    <tr>\n",
       "      <th>min</th>\n",
       "      <td>0.000000e+00</td>\n",
       "      <td>0.00000</td>\n",
       "    </tr>\n",
       "    <tr>\n",
       "      <th>25%</th>\n",
       "      <td>7.750000e+00</td>\n",
       "      <td>0.00000</td>\n",
       "    </tr>\n",
       "    <tr>\n",
       "      <th>50%</th>\n",
       "      <td>1.550000e+01</td>\n",
       "      <td>1.00000</td>\n",
       "    </tr>\n",
       "    <tr>\n",
       "      <th>75%</th>\n",
       "      <td>2.325000e+01</td>\n",
       "      <td>6.75000</td>\n",
       "    </tr>\n",
       "    <tr>\n",
       "      <th>max</th>\n",
       "      <td>9.000000e+08</td>\n",
       "      <td>117931.00000</td>\n",
       "    </tr>\n",
       "  </tbody>\n",
       "</table>\n",
       "</div>"
      ],
      "text/plain": [
       "                 id       latency\n",
       "count  3.200000e+01      32.00000\n",
       "mean   5.625001e+07   12652.18750\n",
       "std    2.213412e+08   28543.22112\n",
       "min    0.000000e+00       0.00000\n",
       "25%    7.750000e+00       0.00000\n",
       "50%    1.550000e+01       1.00000\n",
       "75%    2.325000e+01       6.75000\n",
       "max    9.000000e+08  117931.00000"
      ]
     },
     "execution_count": 22,
     "metadata": {},
     "output_type": "execute_result"
    }
   ],
   "source": [
    "d.describe()"
   ]
  },
  {
   "cell_type": "code",
   "execution_count": 23,
   "metadata": {},
   "outputs": [
    {
     "data": {
      "image/png": "[encoded data removed]",
      "text/plain": [
       "<Figure size 1200x375 with 1 Axes>"
      ]
     },
     "metadata": {
      "needs_background": "light"
     },
     "output_type": "display_data"
    }
   ],
   "source": [
    "def histogroup(k):\n",
    "    lat = d['latency'].loc[k]; ok = d['res'].loc[k]\n",
    "    return \"failed\" if ok == \"ko\" else \"t<20ms\" if lat < 20 else \"20ms<t<40ms\" if lat < 40 else \"t>40ms\"\n",
    "histo = d.groupby(histogroup)['id'].count()\n",
    "ordered_labels = [\"t<20ms\", \"20ms<t<40ms\", \"t>40ms\",\"failed\"]; colors = ['g', 'c', 'b', 'r']\n",
    "histo = histo.reindex(pd.Categorical(histo.index,categories=ordered_labels,ordered=True)).sort_index()\n",
    "histo.plot.bar(color=colors);"
   ]
  },
  {
   "cell_type": "code",
   "execution_count": 24,
   "metadata": {},
   "outputs": [
    {
     "data": {
      "image/png": "[encoded data removed]",
      "text/plain": [
       "<Figure size 375x375 with 1 Axes>"
      ]
     },
     "metadata": {},
     "output_type": "display_data"
    }
   ],
   "source": [
    "histo.plot.pie(colors=colors,figsize=(5,5));"
   ]
  },
  {
   "cell_type": "code",
   "execution_count": 25,
   "metadata": {},
   "outputs": [
    {
     "data": {
      "text/html": [
       "<div>\n",
       "<style scoped>\n",
       "    .dataframe tbody tr th:only-of-type {\n",
       "        vertical-align: middle;\n",
       "    }\n",
       "\n",
       "    .dataframe tbody tr th {\n",
       "        vertical-align: top;\n",
       "    }\n",
       "\n",
       "    .dataframe thead tr th {\n",
       "        text-align: left;\n",
       "    }\n",
       "\n",
       "    .dataframe thead tr:last-of-type th {\n",
       "        text-align: right;\n",
       "    }\n",
       "</style>\n",
       "<table border=\"1\" class=\"dataframe\">\n",
       "  <thead>\n",
       "    <tr>\n",
       "      <th></th>\n",
       "      <th colspan=\"4\" halign=\"left\">res</th>\n",
       "      <th colspan=\"6\" halign=\"left\">latency</th>\n",
       "      <th>ts</th>\n",
       "    </tr>\n",
       "    <tr>\n",
       "      <th></th>\n",
       "      <th>count</th>\n",
       "      <th>okcount</th>\n",
       "      <th>kocount</th>\n",
       "      <th>koper</th>\n",
       "      <th>mean</th>\n",
       "      <th>std</th>\n",
       "      <th>min</th>\n",
       "      <th>max</th>\n",
       "      <th>pct95th</th>\n",
       "      <th>pct99th</th>\n",
       "      <th>reqpersec</th>\n",
       "    </tr>\n",
       "    <tr>\n",
       "      <th>grouppath</th>\n",
       "      <th></th>\n",
       "      <th></th>\n",
       "      <th></th>\n",
       "      <th></th>\n",
       "      <th></th>\n",
       "      <th></th>\n",
       "      <th></th>\n",
       "      <th></th>\n",
       "      <th></th>\n",
       "      <th></th>\n",
       "      <th></th>\n",
       "    </tr>\n",
       "  </thead>\n",
       "  <tbody>\n",
       "    <tr>\n",
       "      <th>/aggregate-stats</th>\n",
       "      <td>28</td>\n",
       "      <td>28</td>\n",
       "      <td>0</td>\n",
       "      <td>0.0</td>\n",
       "      <td>8100.071429</td>\n",
       "      <td>20201.927469</td>\n",
       "      <td>0</td>\n",
       "      <td>58988</td>\n",
       "      <td>56558.30</td>\n",
       "      <td>58428.56</td>\n",
       "      <td>1.0</td>\n",
       "    </tr>\n",
       "    <tr>\n",
       "      <th>/order</th>\n",
       "      <td>2</td>\n",
       "      <td>0</td>\n",
       "      <td>2</td>\n",
       "      <td>100.0</td>\n",
       "      <td>7.500000</td>\n",
       "      <td>6.363961</td>\n",
       "      <td>3</td>\n",
       "      <td>12</td>\n",
       "      <td>11.55</td>\n",
       "      <td>11.91</td>\n",
       "      <td>1.0</td>\n",
       "    </tr>\n",
       "    <tr>\n",
       "      <th>/orders</th>\n",
       "      <td>2</td>\n",
       "      <td>0</td>\n",
       "      <td>2</td>\n",
       "      <td>100.0</td>\n",
       "      <td>89026.500000</td>\n",
       "      <td>40877.135914</td>\n",
       "      <td>60122</td>\n",
       "      <td>117931</td>\n",
       "      <td>115040.55</td>\n",
       "      <td>117352.91</td>\n",
       "      <td>1.0</td>\n",
       "    </tr>\n",
       "  </tbody>\n",
       "</table>\n",
       "</div>"
      ],
      "text/plain": [
       "                   res                              latency                \\\n",
       "                 count okcount kocount  koper          mean           std   \n",
       "grouppath                                                                   \n",
       "/aggregate-stats    28      28       0    0.0   8100.071429  20201.927469   \n",
       "/order               2       0       2  100.0      7.500000      6.363961   \n",
       "/orders              2       0       2  100.0  89026.500000  40877.135914   \n",
       "\n",
       "                                                             ts  \n",
       "                    min     max    pct95th    pct99th reqpersec  \n",
       "grouppath                                                        \n",
       "/aggregate-stats      0   58988   56558.30   58428.56       1.0  \n",
       "/order                3      12      11.55      11.91       1.0  \n",
       "/orders           60122  117931  115040.55  117352.91       1.0  "
      ]
     },
     "execution_count": 25,
     "metadata": {},
     "output_type": "execute_result"
    }
   ],
   "source": [
    "def okcount(x):\n",
    "    return x[x == 'ok'].count()\n",
    "def kocount(x):\n",
    "    return x[x == 'ko'].count()\n",
    "def koper(x):\n",
    "    return 100*(x[x == 'ko'].count() / x.count())\n",
    "def pct95th(x):\n",
    "    return x.quantile(0.95)\n",
    "def pct99th(x):\n",
    "    return x.quantile(0.99)\n",
    "def reqpersec(x):\n",
    "    return x.groupby(x.apply(lambda y: y.floor('s'))).count().mean()\n",
    "d.groupby([\"grouppath\"]).agg({'res': ['count',okcount,kocount,koper],'latency': ['mean','std','min','max',pct95th,pct99th],'ts': [reqpersec]})"
   ]
  },
  {
   "cell_type": "markdown",
   "metadata": {},
   "source": [
    "## Temps de réponse (ms)"
   ]
  },
  {
   "cell_type": "code",
   "execution_count": 26,
   "metadata": {
    "scrolled": false
   },
   "outputs": [
    {
     "data": {
      "image/png": "[encoded data removed]",
      "text/plain": [
       "<Figure size 1200x375 with 1 Axes>"
      ]
     },
     "metadata": {
      "needs_background": "light"
     },
     "output_type": "display_data"
    }
   ],
   "source": [
    "d.groupby(d['grouppath'])['latency'].plot();"
   ]
  },
  {
   "cell_type": "code",
   "execution_count": 27,
   "metadata": {
    "scrolled": false
   },
   "outputs": [
    {
     "data": {
      "image/png": "[encoded data removed]",
      "text/plain": [
       "<Figure size 1200x375 with 1 Axes>"
      ]
     },
     "metadata": {
      "needs_background": "light"
     },
     "output_type": "display_data"
    }
   ],
   "source": [
    "d.boxplot(column=['latency'], by='grouppath');"
   ]
  },
  {
   "cell_type": "code",
   "execution_count": null,
   "metadata": {},
   "outputs": [],
   "source": []
  },
  {
   "cell_type": "code",
   "execution_count": null,
   "metadata": {},
   "outputs": [],
   "source": []
  }
 ],
 "metadata": {
  "kernelspec": {
   "display_name": "Python 3",
   "language": "python",
   "name": "python3"
  },
  "language_info": {
   "codemirror_mode": {
    "name": "ipython",
    "version": 3
   },
   "file_extension": ".py",
   "mimetype": "text/x-python",
   "name": "python",
   "nbconvert_exporter": "python",
   "pygments_lexer": "ipython3",
   "version": "3.7.7"
  }
 },
 "nbformat": 4,
 "nbformat_minor": 2
}
